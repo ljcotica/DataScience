{
  "nbformat": 4,
  "nbformat_minor": 0,
  "metadata": {
    "colab": {
      "name": "DecisionTreeClassifier.ipynb",
      "provenance": [],
      "authorship_tag": "ABX9TyPvF6laD1jJvHqFu/OqljQi",
      "include_colab_link": true
    },
    "kernelspec": {
      "name": "python3",
      "display_name": "Python 3"
    },
    "language_info": {
      "name": "python"
    }
  },
  "cells": [
    {
      "cell_type": "markdown",
      "metadata": {
        "id": "view-in-github",
        "colab_type": "text"
      },
      "source": [
        "<a href=\"https://colab.research.google.com/github/ljcotica/DataScience/blob/main/DecisionTreeClassifier.ipynb\" target=\"_parent\"><img src=\"https://colab.research.google.com/assets/colab-badge.svg\" alt=\"Open In Colab\"/></a>"
      ]
    },
    {
      "cell_type": "markdown",
      "metadata": {
        "id": "QlXfH0-es5Xj"
      },
      "source": [
        "# Classificador utilizando árvore de decisão"
      ]
    },
    {
      "cell_type": "markdown",
      "metadata": {
        "id": "up5QhoN4vkGb"
      },
      "source": [
        "Árvores de decisão são um método de aprendizado supervisionado não paramétrico usado para classificação e regressão. O objetivo é criar um modelo que preveja o valor de uma variável de destino, aprendendo regras de decisão simples inferidas dos recursos de dados. Uma árvore pode ser vista como uma aproximação constante por partes."
      ]
    },
    {
      "cell_type": "markdown",
      "metadata": {
        "id": "vFdgZ34zv6hu"
      },
      "source": [
        "Algumas vantagens das árvores de decisão são:\n",
        "\n",
        "*   Simples de entender e interpretar.\n",
        "*   Requer pouca preparação de dados.\n",
        "*   O custo de usar a árvore (ou seja, dados de previsão) é logarítmico no número de pontos de dados usados ​​para treinar a árvore.\n",
        "*   Capaz de lidar com dados numéricos e categóricos. No entanto, a implementação do scikit-learn não oferece suporte a variáveis ​​categóricas por enquanto.   \n",
        "*   Capaz de lidar com problemas de múltiplas saídas.\n",
        "*   Usa um modelo de caixa branca.\n",
        "*   Possível validar um modelo por meio de testes estatísticos.\n",
        "*   Apresenta um bom desempenho."
      ]
    },
    {
      "cell_type": "code",
      "metadata": {
        "id": "VWJpratTh8-L"
      },
      "source": [
        "from sklearn import tree"
      ],
      "execution_count": 1,
      "outputs": []
    },
    {
      "cell_type": "markdown",
      "metadata": {
        "id": "iYJMn_kEi8un"
      },
      "source": [
        "Neste exemplo são utilizadas duas características das frutas:\n",
        "\n",
        "\n",
        "*   Dimensão (em mm)\n",
        "*   Tipo de casca (0 - lisa, 1 - irregular)\n",
        "\n",
        "Foram rotulados/etiquetados os exemplos conforme abaixo:\n",
        " \n",
        "\n",
        "*   0 - maçã\n",
        "*   1 - laranja\n",
        "\n",
        "\n",
        "  "
      ]
    },
    {
      "cell_type": "code",
      "metadata": {
        "id": "pOQfBk4fiAL9"
      },
      "source": [
        "features = [[140, 0],[130,0],[150,1],[170,1]]\n",
        "labels = [0,0,1,1]"
      ],
      "execution_count": 2,
      "outputs": []
    },
    {
      "cell_type": "markdown",
      "metadata": {
        "id": "3oi5EIXqucg2"
      },
      "source": [
        "Para fazer a classificação vamos utilizar a classe ***DecisionTreeClassifier()*** do Scikit Learn.<br>\n",
        "DecisionTreeClassifier é uma classe capaz de realizar classificação multiclasse em um conjunto de dados."
      ]
    },
    {
      "cell_type": "markdown",
      "metadata": {
        "id": "FUYqqVIxxX0h"
      },
      "source": [
        "Tal como acontece com outros classificadores, DecisionTreeClassifier leva como entrada duas matrizes: uma matriz X, esparsa ou densa, de forma (n_samples, n_features) contendo as amostras de treinamento e uma matriz Y de valores inteiros, forma (n_samples,), contendo os rótulos de classe para os exemplos de treinamento (definidos acima):"
      ]
    },
    {
      "cell_type": "code",
      "metadata": {
        "id": "l64KXrPWjiNz"
      },
      "source": [
        "clf = tree.DecisionTreeClassifier()\n",
        "clf = clf.fit(features,labels)"
      ],
      "execution_count": 3,
      "outputs": []
    },
    {
      "cell_type": "markdown",
      "metadata": {
        "id": "Il44ULrpxvXU"
      },
      "source": [
        "Depois de ser ajustado, o modelo pode ser usado para prever a classe de amostras:"
      ]
    },
    {
      "cell_type": "code",
      "metadata": {
        "colab": {
          "base_uri": "https://localhost:8080/"
        },
        "id": "UtZn0-xIj7Zp",
        "outputId": "415c5e61-5a63-4359-fd52-b1eea1cc3852"
      },
      "source": [
        "previsao = 'maçã' if clf.predict([[150,1]]) == 0 else 'laranja'\n",
        "print(\"A fruta é uma\", previsao)"
      ],
      "execution_count": 11,
      "outputs": [
        {
          "output_type": "stream",
          "text": [
            "A fruta é uma laranja\n"
          ],
          "name": "stdout"
        }
      ]
    },
    {
      "cell_type": "markdown",
      "metadata": {
        "id": "GGgcZoy9zvyf"
      },
      "source": [
        "Fonte: https://scikit-learn.org/stable/modules/tree.html#tree"
      ]
    }
  ]
}